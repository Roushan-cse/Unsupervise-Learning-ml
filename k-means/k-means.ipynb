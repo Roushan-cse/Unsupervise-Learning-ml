{
 "cells": [
  {
   "cell_type": "code",
   "execution_count": 4,
   "id": "17928f7a",
   "metadata": {},
   "outputs": [],
   "source": [
    "import pandas as pd \n",
    "import matplotlib.pyplot as plt\n",
    "from sklearn.datasets import load_iris"
   ]
  },
  {
   "cell_type": "code",
   "execution_count": 5,
   "id": "8379eb41",
   "metadata": {},
   "outputs": [],
   "source": [
    " \n",
    "x = load_iris().data\n",
    "y = load_iris().target"
   ]
  },
  {
   "cell_type": "code",
   "execution_count": 6,
   "id": "2bb5cb25",
   "metadata": {},
   "outputs": [
    {
     "data": {
      "text/plain": [
       "(150, 4)"
      ]
     },
     "execution_count": 6,
     "metadata": {},
     "output_type": "execute_result"
    }
   ],
   "source": [
    "x.shape"
   ]
  },
  {
   "cell_type": "code",
   "execution_count": 7,
   "id": "fbb0bdb9",
   "metadata": {},
   "outputs": [],
   "source": [
    "from sklearn.cluster import KMeans"
   ]
  },
  {
   "cell_type": "code",
   "execution_count": 8,
   "id": "5a8ec940",
   "metadata": {},
   "outputs": [],
   "source": [
    "list1 = []\n",
    "for i in range(1,11):\n",
    "    kmeans = KMeans(n_clusters=i)\n",
    "    kmeans.fit(x)\n",
    "    list1.append(kmeans.inertia_)"
   ]
  },
  {
   "cell_type": "code",
   "execution_count": 9,
   "id": "fc0ab14c",
   "metadata": {},
   "outputs": [
    {
     "name": "stdout",
     "output_type": "stream",
     "text": [
      "[681.3706000000001, 152.34795176035792, 78.8556658259773, 57.35088021295475, 46.472230158730156, 39.21125347985348, 34.996821411021415, 32.97049009600651, 31.380594728800617, 27.58605721076309]\n"
     ]
    }
   ],
   "source": [
    "print(list1)"
   ]
  },
  {
   "cell_type": "code",
   "execution_count": 10,
   "id": "8d2d6c15",
   "metadata": {},
   "outputs": [
    {
     "data": {
      "image/png": "[encoded data removed]",
      "text/plain": [
       "<Figure size 640x480 with 1 Axes>"
      ]
     },
     "metadata": {},
     "output_type": "display_data"
    }
   ],
   "source": [
    "#creating the scree plot \n",
    "plt.plot(range(1,11),list1,marker='o')\n",
    "plt.title(\"Elbow Method\")\n",
    "plt.xlabel(\"Number of clusters\")\n",
    "plt.ylabel(\"WCSS\")\n",
    "plt.show()"
   ]
  },
  {
   "cell_type": "code",
   "execution_count": 11,
   "id": "57896c24",
   "metadata": {},
   "outputs": [],
   "source": [
    "# from the graph we get the elbow at 3 so we consider the number of clusters 3"
   ]
  },
  {
   "cell_type": "code",
   "execution_count": 75,
   "id": "8a630c79",
   "metadata": {},
   "outputs": [],
   "source": [
    "kmeans = KMeans(n_clusters=3)\n",
    "kmeans.fit(x)\n",
    "y_predicted=kmeans.predict(x)\n"
   ]
  },
  {
   "cell_type": "code",
   "execution_count": 76,
   "id": "d8e3ca53",
   "metadata": {},
   "outputs": [
    {
     "data": {
      "text/plain": [
       "array([[5.006     , 3.428     , 1.462     , 0.246     ],\n",
       "       [6.85384615, 3.07692308, 5.71538462, 2.05384615],\n",
       "       [5.88360656, 2.74098361, 4.38852459, 1.43442623]])"
      ]
     },
     "execution_count": 76,
     "metadata": {},
     "output_type": "execute_result"
    }
   ],
   "source": [
    "kmeans.cluster_centers_"
   ]
  },
  {
   "cell_type": "code",
   "execution_count": 82,
   "id": "042ff6c1",
   "metadata": {},
   "outputs": [],
   "source": [
    "import pandas\n",
    "data = {'Original':y,'Predicted': y_predicted}\n",
    "kmeansdf = pandas.DataFrame(data,columns=['Original',\"Predicted\"])"
   ]
  },
  {
   "cell_type": "code",
   "execution_count": 83,
   "id": "bc558809",
   "metadata": {},
   "outputs": [
    {
     "name": "stdout",
     "output_type": "stream",
     "text": [
      "Predicted\n",
      "2    61\n",
      "0    50\n",
      "1    39\n",
      "Name: count, dtype: int64\n",
      "Original\n",
      "0    50\n",
      "1    50\n",
      "2    50\n",
      "Name: count, dtype: int64\n"
     ]
    }
   ],
   "source": [
    "print(kmeansdf[\"Predicted\"].value_counts())\n",
    "print(kmeansdf[\"Original\"].value_counts())"
   ]
  },
  {
   "cell_type": "code",
   "execution_count": 84,
   "id": "462b44da",
   "metadata": {},
   "outputs": [
    {
     "name": "stderr",
     "output_type": "stream",
     "text": [
      "C:\\Users\\mahto\\AppData\\Local\\Temp\\ipykernel_28192\\2716586726.py:1: FutureWarning: A value is trying to be set on a copy of a DataFrame or Series through chained assignment using an inplace method.\n",
      "The behavior will change in pandas 3.0. This inplace method will never work because the intermediate object on which we are setting values always behaves as a copy.\n",
      "\n",
      "For example, when doing 'df[col].method(value, inplace=True)', try using 'df.method({col: value}, inplace=True)' or df[col] = df[col].method(value) instead, to perform the operation inplace on the original object.\n",
      "\n",
      "\n",
      "  kmeansdf['Original'].replace(to_replace=int(\"0\"),value=\"setosa\",inplace=True)\n",
      "C:\\Users\\mahto\\AppData\\Local\\Temp\\ipykernel_28192\\2716586726.py:4: FutureWarning: A value is trying to be set on a copy of a DataFrame or Series through chained assignment using an inplace method.\n",
      "The behavior will change in pandas 3.0. This inplace method will never work because the intermediate object on which we are setting values always behaves as a copy.\n",
      "\n",
      "For example, when doing 'df[col].method(value, inplace=True)', try using 'df.method({col: value}, inplace=True)' or df[col] = df[col].method(value) instead, to perform the operation inplace on the original object.\n",
      "\n",
      "\n",
      "  kmeansdf['Predicted'].replace(to_replace=int(\"0\"),value=\"setosa\",inplace=True)\n"
     ]
    }
   ],
   "source": [
    "kmeansdf['Original'].replace(to_replace=int(\"0\"),value=\"setosa\",inplace=True)\n",
    "kmeansdf['Original'].replace(to_replace=int(\"1\"),value='versicolor',inplace=True)\n",
    "kmeansdf['Original'].replace(to_replace=int(\"2\"),value = \"virginaca\",inplace=True)\n",
    "kmeansdf['Predicted'].replace(to_replace=int(\"0\"),value=\"setosa\",inplace=True)\n",
    "kmeansdf['Predicted'].replace(to_replace=int(\"1\"),value='versicolor',inplace=True)\n",
    "kmeansdf['Predicted'].replace(to_replace=int(\"2\"),value = \"virginaca\",inplace=True)"
   ]
  },
  {
   "cell_type": "code",
   "execution_count": 73,
   "id": "cc1ac426",
   "metadata": {},
   "outputs": [
    {
     "data": {
      "text/html": [
       "<div>\n",
       "<style scoped>\n",
       "    .dataframe tbody tr th:only-of-type {\n",
       "        vertical-align: middle;\n",
       "    }\n",
       "\n",
       "    .dataframe tbody tr th {\n",
       "        vertical-align: top;\n",
       "    }\n",
       "\n",
       "    .dataframe thead th {\n",
       "        text-align: right;\n",
       "    }\n",
       "</style>\n",
       "<table border=\"1\" class=\"dataframe\">\n",
       "  <thead>\n",
       "    <tr style=\"text-align: right;\">\n",
       "      <th></th>\n",
       "      <th>Original</th>\n",
       "      <th>Predicted</th>\n",
       "    </tr>\n",
       "  </thead>\n",
       "  <tbody>\n",
       "    <tr>\n",
       "      <th>0</th>\n",
       "      <td>setosa</td>\n",
       "      <td>setosa</td>\n",
       "    </tr>\n",
       "    <tr>\n",
       "      <th>1</th>\n",
       "      <td>setosa</td>\n",
       "      <td>setosa</td>\n",
       "    </tr>\n",
       "    <tr>\n",
       "      <th>2</th>\n",
       "      <td>setosa</td>\n",
       "      <td>setosa</td>\n",
       "    </tr>\n",
       "    <tr>\n",
       "      <th>3</th>\n",
       "      <td>setosa</td>\n",
       "      <td>setosa</td>\n",
       "    </tr>\n",
       "    <tr>\n",
       "      <th>4</th>\n",
       "      <td>setosa</td>\n",
       "      <td>setosa</td>\n",
       "    </tr>\n",
       "    <tr>\n",
       "      <th>5</th>\n",
       "      <td>setosa</td>\n",
       "      <td>setosa</td>\n",
       "    </tr>\n",
       "    <tr>\n",
       "      <th>6</th>\n",
       "      <td>setosa</td>\n",
       "      <td>setosa</td>\n",
       "    </tr>\n",
       "    <tr>\n",
       "      <th>7</th>\n",
       "      <td>setosa</td>\n",
       "      <td>setosa</td>\n",
       "    </tr>\n",
       "    <tr>\n",
       "      <th>8</th>\n",
       "      <td>setosa</td>\n",
       "      <td>setosa</td>\n",
       "    </tr>\n",
       "    <tr>\n",
       "      <th>9</th>\n",
       "      <td>setosa</td>\n",
       "      <td>setosa</td>\n",
       "    </tr>\n",
       "  </tbody>\n",
       "</table>\n",
       "</div>"
      ],
      "text/plain": [
       "  Original Predicted\n",
       "0   setosa    setosa\n",
       "1   setosa    setosa\n",
       "2   setosa    setosa\n",
       "3   setosa    setosa\n",
       "4   setosa    setosa\n",
       "5   setosa    setosa\n",
       "6   setosa    setosa\n",
       "7   setosa    setosa\n",
       "8   setosa    setosa\n",
       "9   setosa    setosa"
      ]
     },
     "execution_count": 73,
     "metadata": {},
     "output_type": "execute_result"
    }
   ],
   "source": [
    "kmeansdf.head(10)"
   ]
  },
  {
   "cell_type": "code",
   "execution_count": 85,
   "id": "ac45c5db",
   "metadata": {},
   "outputs": [
    {
     "name": "stdout",
     "output_type": "stream",
     "text": [
      "the confusion matrix is : \n",
      " [[50  0  0]\n",
      " [ 0  3 47]\n",
      " [ 0 36 14]]\n"
     ]
    }
   ],
   "source": [
    "from sklearn.metrics import confusion_matrix\n",
    "results = confusion_matrix(kmeansdf['Original'],kmeansdf['Predicted'])\n",
    "print(\"the confusion matrix is : \\n\",results)"
   ]
  },
  {
   "cell_type": "code",
   "execution_count": null,
   "id": "537c0fc4",
   "metadata": {},
   "outputs": [],
   "source": []
  }
 ],
 "metadata": {
  "kernelspec": {
   "display_name": "myenv",
   "language": "python",
   "name": "python3"
  },
  "language_info": {
   "codemirror_mode": {
    "name": "ipython",
    "version": 3
   },
   "file_extension": ".py",
   "mimetype": "text/x-python",
   "name": "python",
   "nbconvert_exporter": "python",
   "pygments_lexer": "ipython3",
   "version": "3.12.10"
  }
 },
 "nbformat": 4,
 "nbformat_minor": 5
}
