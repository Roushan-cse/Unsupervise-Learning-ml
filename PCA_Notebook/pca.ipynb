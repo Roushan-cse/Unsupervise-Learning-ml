{
 "cells": [
  {
   "cell_type": "code",
   "execution_count": 2,
   "id": "085b2d93",
   "metadata": {},
   "outputs": [],
   "source": [
    "from sklearn.datasets import make_friedman1"
   ]
  },
  {
   "cell_type": "code",
   "execution_count": 3,
   "id": "797c6650",
   "metadata": {},
   "outputs": [],
   "source": [
    "x,y = make_friedman1()"
   ]
  },
  {
   "cell_type": "code",
   "execution_count": 4,
   "id": "23527579",
   "metadata": {},
   "outputs": [],
   "source": [
    "import pandas as pd"
   ]
  },
  {
   "cell_type": "code",
   "execution_count": 5,
   "id": "d6acf304",
   "metadata": {},
   "outputs": [],
   "source": [
    "x_df = pd.DataFrame(x)"
   ]
  },
  {
   "cell_type": "code",
   "execution_count": 6,
   "id": "40610e7e",
   "metadata": {},
   "outputs": [
    {
     "data": {
      "text/html": [
       "<div>\n",
       "<style scoped>\n",
       "    .dataframe tbody tr th:only-of-type {\n",
       "        vertical-align: middle;\n",
       "    }\n",
       "\n",
       "    .dataframe tbody tr th {\n",
       "        vertical-align: top;\n",
       "    }\n",
       "\n",
       "    .dataframe thead th {\n",
       "        text-align: right;\n",
       "    }\n",
       "</style>\n",
       "<table border=\"1\" class=\"dataframe\">\n",
       "  <thead>\n",
       "    <tr style=\"text-align: right;\">\n",
       "      <th></th>\n",
       "      <th>0</th>\n",
       "      <th>1</th>\n",
       "      <th>2</th>\n",
       "      <th>3</th>\n",
       "      <th>4</th>\n",
       "      <th>5</th>\n",
       "      <th>6</th>\n",
       "      <th>7</th>\n",
       "      <th>8</th>\n",
       "      <th>9</th>\n",
       "    </tr>\n",
       "  </thead>\n",
       "  <tbody>\n",
       "    <tr>\n",
       "      <th>0</th>\n",
       "      <td>0.419417</td>\n",
       "      <td>0.094480</td>\n",
       "      <td>0.551824</td>\n",
       "      <td>0.221031</td>\n",
       "      <td>0.639838</td>\n",
       "      <td>0.486079</td>\n",
       "      <td>0.141831</td>\n",
       "      <td>0.182149</td>\n",
       "      <td>0.300964</td>\n",
       "      <td>0.440658</td>\n",
       "    </tr>\n",
       "    <tr>\n",
       "      <th>1</th>\n",
       "      <td>0.053390</td>\n",
       "      <td>0.024010</td>\n",
       "      <td>0.754057</td>\n",
       "      <td>0.972055</td>\n",
       "      <td>0.891404</td>\n",
       "      <td>0.661740</td>\n",
       "      <td>0.451501</td>\n",
       "      <td>0.588290</td>\n",
       "      <td>0.919716</td>\n",
       "      <td>0.149397</td>\n",
       "    </tr>\n",
       "    <tr>\n",
       "      <th>2</th>\n",
       "      <td>0.754947</td>\n",
       "      <td>0.901284</td>\n",
       "      <td>0.618106</td>\n",
       "      <td>0.133619</td>\n",
       "      <td>0.123862</td>\n",
       "      <td>0.026941</td>\n",
       "      <td>0.592235</td>\n",
       "      <td>0.556535</td>\n",
       "      <td>0.826708</td>\n",
       "      <td>0.930252</td>\n",
       "    </tr>\n",
       "    <tr>\n",
       "      <th>3</th>\n",
       "      <td>0.477603</td>\n",
       "      <td>0.635169</td>\n",
       "      <td>0.248807</td>\n",
       "      <td>0.658477</td>\n",
       "      <td>0.955149</td>\n",
       "      <td>0.108124</td>\n",
       "      <td>0.081305</td>\n",
       "      <td>0.150781</td>\n",
       "      <td>0.635647</td>\n",
       "      <td>0.650569</td>\n",
       "    </tr>\n",
       "    <tr>\n",
       "      <th>4</th>\n",
       "      <td>0.036920</td>\n",
       "      <td>0.405714</td>\n",
       "      <td>0.918673</td>\n",
       "      <td>0.547837</td>\n",
       "      <td>0.241160</td>\n",
       "      <td>0.322382</td>\n",
       "      <td>0.430548</td>\n",
       "      <td>0.498390</td>\n",
       "      <td>0.692747</td>\n",
       "      <td>0.033028</td>\n",
       "    </tr>\n",
       "  </tbody>\n",
       "</table>\n",
       "</div>"
      ],
      "text/plain": [
       "          0         1         2         3         4         5         6  \\\n",
       "0  0.419417  0.094480  0.551824  0.221031  0.639838  0.486079  0.141831   \n",
       "1  0.053390  0.024010  0.754057  0.972055  0.891404  0.661740  0.451501   \n",
       "2  0.754947  0.901284  0.618106  0.133619  0.123862  0.026941  0.592235   \n",
       "3  0.477603  0.635169  0.248807  0.658477  0.955149  0.108124  0.081305   \n",
       "4  0.036920  0.405714  0.918673  0.547837  0.241160  0.322382  0.430548   \n",
       "\n",
       "          7         8         9  \n",
       "0  0.182149  0.300964  0.440658  \n",
       "1  0.588290  0.919716  0.149397  \n",
       "2  0.556535  0.826708  0.930252  \n",
       "3  0.150781  0.635647  0.650569  \n",
       "4  0.498390  0.692747  0.033028  "
      ]
     },
     "execution_count": 6,
     "metadata": {},
     "output_type": "execute_result"
    }
   ],
   "source": [
    "x_df.head(5)"
   ]
  },
  {
   "cell_type": "code",
   "execution_count": 7,
   "id": "567e4d46",
   "metadata": {},
   "outputs": [
    {
     "name": "stdout",
     "output_type": "stream",
     "text": [
      "          0         1         2         3         4         5         6  \\\n",
      "0  1.000000 -0.109046 -0.050040  0.176895  0.115760  0.080928 -0.086729   \n",
      "1 -0.109046  1.000000 -0.106134 -0.113118 -0.098286 -0.037627 -0.103144   \n",
      "2 -0.050040 -0.106134  1.000000  0.072905 -0.056472  0.118160  0.004008   \n",
      "3  0.176895 -0.113118  0.072905  1.000000  0.167185  0.051807 -0.000798   \n",
      "4  0.115760 -0.098286 -0.056472  0.167185  1.000000  0.087914  0.119229   \n",
      "5  0.080928 -0.037627  0.118160  0.051807  0.087914  1.000000 -0.177821   \n",
      "6 -0.086729 -0.103144  0.004008 -0.000798  0.119229 -0.177821  1.000000   \n",
      "7 -0.045623 -0.064677  0.151858 -0.020098  0.062264  0.149137 -0.016606   \n",
      "8 -0.093832  0.036193  0.139456 -0.034003 -0.112240 -0.163526  0.049300   \n",
      "9  0.015849  0.009381  0.019234 -0.153133 -0.004698 -0.184849  0.047531   \n",
      "\n",
      "          7         8         9  \n",
      "0 -0.045623 -0.093832  0.015849  \n",
      "1 -0.064677  0.036193  0.009381  \n",
      "2  0.151858  0.139456  0.019234  \n",
      "3 -0.020098 -0.034003 -0.153133  \n",
      "4  0.062264 -0.112240 -0.004698  \n",
      "5  0.149137 -0.163526 -0.184849  \n",
      "6 -0.016606  0.049300  0.047531  \n",
      "7  1.000000 -0.162282 -0.047022  \n",
      "8 -0.162282  1.000000  0.147013  \n",
      "9 -0.047022  0.147013  1.000000  \n"
     ]
    }
   ],
   "source": [
    "corr_ = x_df.corr()\n",
    "print(corr_)\n"
   ]
  },
  {
   "cell_type": "code",
   "execution_count": 8,
   "id": "4179ccac",
   "metadata": {},
   "outputs": [],
   "source": [
    "import matplotlib.pyplot as plt\n",
    "import seaborn as sns"
   ]
  },
  {
   "cell_type": "code",
   "execution_count": 9,
   "id": "076664d6",
   "metadata": {},
   "outputs": [
    {
     "data": {
      "image/png": "[encoded data removed]",
      "text/plain": [
       "<Figure size 640x480 with 2 Axes>"
      ]
     },
     "metadata": {},
     "output_type": "display_data"
    }
   ],
   "source": [
    "sns.heatmap(corr_,annot=True,cmap=\"magma\")\n",
    "plt.show()"
   ]
  },
  {
   "cell_type": "code",
   "execution_count": 10,
   "id": "891f175a",
   "metadata": {},
   "outputs": [],
   "source": [
    "# features are not correlated to each other  this leads to more information loss"
   ]
  },
  {
   "cell_type": "code",
   "execution_count": 11,
   "id": "af3e4d24",
   "metadata": {},
   "outputs": [],
   "source": [
    "from sklearn.decomposition import PCA"
   ]
  },
  {
   "cell_type": "code",
   "execution_count": 12,
   "id": "a38ba9fc",
   "metadata": {},
   "outputs": [],
   "source": [
    "# we will not able to visualise data point of previous x_df datapoints so we reduce the dimenstion using pca and make it in 3 dim to visualise it but it lead more information loss which is may be important if features are highly co-related the loss will be minimum and if the features are les correlated then the loss is more "
   ]
  },
  {
   "cell_type": "code",
   "execution_count": 13,
   "id": "e5f9dc9d",
   "metadata": {},
   "outputs": [],
   "source": [
    "pca = PCA(n_components=3)\n",
    "pca.fit(x_df)\n",
    "x_3dim = pca.transform(x_df)\n",
    "# it return numpy array"
   ]
  },
  {
   "cell_type": "code",
   "execution_count": 14,
   "id": "3954920a",
   "metadata": {},
   "outputs": [
    {
     "data": {
      "text/html": [
       "<div>\n",
       "<style scoped>\n",
       "    .dataframe tbody tr th:only-of-type {\n",
       "        vertical-align: middle;\n",
       "    }\n",
       "\n",
       "    .dataframe tbody tr th {\n",
       "        vertical-align: top;\n",
       "    }\n",
       "\n",
       "    .dataframe thead th {\n",
       "        text-align: right;\n",
       "    }\n",
       "</style>\n",
       "<table border=\"1\" class=\"dataframe\">\n",
       "  <thead>\n",
       "    <tr style=\"text-align: right;\">\n",
       "      <th></th>\n",
       "      <th>0</th>\n",
       "      <th>1</th>\n",
       "      <th>2</th>\n",
       "    </tr>\n",
       "  </thead>\n",
       "  <tbody>\n",
       "    <tr>\n",
       "      <th>0</th>\n",
       "      <td>0.048685</td>\n",
       "      <td>-0.151262</td>\n",
       "      <td>-0.230907</td>\n",
       "    </tr>\n",
       "    <tr>\n",
       "      <th>1</th>\n",
       "      <td>0.367216</td>\n",
       "      <td>-0.041930</td>\n",
       "      <td>0.550783</td>\n",
       "    </tr>\n",
       "    <tr>\n",
       "      <th>2</th>\n",
       "      <td>-0.701014</td>\n",
       "      <td>0.060920</td>\n",
       "      <td>-0.134601</td>\n",
       "    </tr>\n",
       "    <tr>\n",
       "      <th>3</th>\n",
       "      <td>-0.061373</td>\n",
       "      <td>0.322789</td>\n",
       "      <td>-0.471952</td>\n",
       "    </tr>\n",
       "    <tr>\n",
       "      <th>4</th>\n",
       "      <td>-0.166650</td>\n",
       "      <td>-0.430797</td>\n",
       "      <td>0.317092</td>\n",
       "    </tr>\n",
       "  </tbody>\n",
       "</table>\n",
       "</div>"
      ],
      "text/plain": [
       "          0         1         2\n",
       "0  0.048685 -0.151262 -0.230907\n",
       "1  0.367216 -0.041930  0.550783\n",
       "2 -0.701014  0.060920 -0.134601\n",
       "3 -0.061373  0.322789 -0.471952\n",
       "4 -0.166650 -0.430797  0.317092"
      ]
     },
     "execution_count": 14,
     "metadata": {},
     "output_type": "execute_result"
    }
   ],
   "source": [
    "x_df_3dim = pd.DataFrame(x_3dim)\n",
    "x_df_3dim.head(5)"
   ]
  },
  {
   "cell_type": "code",
   "execution_count": 20,
   "id": "ba4d2190",
   "metadata": {},
   "outputs": [
    {
     "data": {
      "application/vnd.plotly.v1+json": {
       "config": {
        "plotlyServerURL": "https://plot.ly"
       },
       "data": [
        {
         "hovertemplate": "x=%{x}<br>y=%{y}<br>z=%{z}<extra></extra>",
         "legendgroup": "",
         "marker": {
          "color": "#636efa",
          "symbol": "circle"
         },
         "mode": "markers",
         "name": "",
         "scene": "scene",
         "showlegend": false,
         "type": "scatter3d",
         "x": {
          "bdata": "qCEVKUXtqD9zzZwEdoDXP/LWnim1bua/OFazdj9sr7+Q9Tr7ylTFv4l6v6we1dM/gHeMzRrRsD+dyT05O9zXPzU4wOa/O9I/oD6+YPvItb/oLgrMU5rkP5IRTJVXDOe/Nasgnr7H2r/CyRVm8K3rP8d/oQ/8Fey/nMLWnJ98vz/EjaOi2R3Tv0vu49kdotw/Hh3FBX3i5b8AuAQihCpnP9jgNc26uOS/BP3WmwLR0L80fccQARDgPwDvQi2I4KO/IN6zhgTwgb91pF3H20TbP/DJbUCYupU/277vlAqz27+fIcw8NePbP5eapKoLed6/Eb+qIlYL1b/QBuPsspOwP6ib7agkA6i/EHzkuIqRmT/iwe9BxfTFPyJpnR9hX88/rEwq1nBEuD8KdSm1HCnDP/DJvNsluc+//2RNWqN8z7/VQr7Zav7SP8RUd2SIo9O/Ds8F9MuhzD/4tQWcByHjv6ibme3Uuug/bkT1KPzu0b/1RT/l7trQP450cPJxhs8/tgQf7Np34D80P0s+HCC5P1Y+hXYj5du/pWpQi9ex0T90yS3abaC4vwGJ0sIWrtc/3b050pkP0z89qjzd0Iniv8jHXK7ARaK/XDrMQXT2vj/MjnD/q7u+PzSMC7JQtLG/HFAj8rvwsj8OVvC7YpPMv5rA+UcTGeE/DMZ7AJ+nu79oHJl/QtjGv2SMMNbK2cy/yD3dEPgjpL9dOCefzwvZP5qHAXJs3+E/X56VuNp4x79VAKigYHbZP4EyVqGV1ce/xtxuuJzfyD8gThj4FUGfPxo7dtyVCty/zQT1nFFx379pnDffU6bcP7bg2i/ReM4/GIK17eolx7/86SnLdkK5Py54eUGz4sk/02qgrLeJy79CgJQYTdrPP9zvx4zt5s2/6vwNaHNZ2L/+3LuX1Cbhv1WoKqkJ59E/mEu4ykh15r8sC7RaDCS4P8AarnXON+I/SWmLCTnu1z9yRTbpaNrOP0Q/hk1s8LK/CLehe58h5r++ZrPk+ZbBv1RgOM4vB7I/Dl2U+j812r9AoeGRU9i7vyw7W6PufOM/8L2IeKmbnb8=",
          "dtype": "f8"
         },
         "y": {
          "bdata": "VOQAcolcw78oLV31z3elvxDYtfjqMK8/JLy2apGo1D+L+bNCLZLbv9Qbpy6Qd72/1BQAelupvb+qF6kRox7Mv3rpcP4wY8q/tCMZLlOBwz+DV7gaLDzUv8C/dws9VLw/AHZrEvFFX78wlBRe2zKyv6nZcW20d9G/9baYFO0x1792G9LVwdLYv2CeON4kdNo/SCFf89E8tz/O50LljTbsP9zPzWw7Fs0/UBMuJ0kWmr/QajM+Dpy5v9AdBsZjZsc/2FlC96KGvT/OsuCxwP/WPzqv90PuRtm/cAJNaxaE278WBbMgwmPUPy12K+S/jtu/fTZzLqMc4D+OW6p4cpzVv5JtBAgHd9k/KLp+BUx/6r8+XTuVugDYP1amARdz6NA/6gXuyoYy7b9ISnCsRemwv5BRo8Tq7cc/6ItczPyw4D/eN7X3Klzovyj80gA6r8Y/0sxuL20txL8gBalPs5DAP+A/Cq2MscS/3Oe/Zw66yT/AZZnPf5rRv1v2VW4ce+m/yJFBLkCtub9mprkH4KDRP9pbREQPU9u/BqC3u4j/4D/YAfZfRpvJP9h8ho2BGLk/mJC7MCvI4j98cgGu5iXBPyRUgVTbacs/oLq6sDFKqD+XdmVaa7Xcv0CbQ0UuPMg/zGiEGy06wT+fT14Gt1HMv/mXnHQhOdW/gHu+Fnqyxj/aUR3DIpLYv5RhvmpnY9a/FACAfLAJyT8ohX95diHKPzOw6TvR/cu/2Mfa57wNtD8gSdNlbzzgPxgPLqZNrKm/Fgeyj+2T1798psVtP2fSvwyvCQKvS9M/HjffQBeK2L8XR8rfBYXMv5jqhd7cAc8/oIKzQE4EqL9ysyjScTrDv84dJs7v19E//p4r7EVR1D+r7hY5jIHgP+AQyffH4cK/ZotiLcyw1j8OB2OGs7rVP+AOMzHpfLW/WP3Hs5IkyD8InJH/AiyzPzRkCygKYMU/lqyCXZQe2D8CSvECnQnQP1TKZ4ANDM0/JshgUDSZ3L8Xw0W4dQjUvxA8M7FOeZa/qN849N1Nvz+An9YKOHe+v8jkA4iZeMw/iEe6vushq78=",
          "dtype": "f8"
         },
         "z": {
          "bdata": "BIrWRmCOzb9oUSYaBKDhP8zDlMSdOsG/1ftAlnY03r8gw403O0vUP9K2FSWSQ+E/uGGH08tEwb9wanHHfv27v5CUgGjGscQ/9I5+boCy1z/Aeo2qvk2Wv7jQhn82VLK/JP3KaDIjwT84Tn+oupnQPzeWurTSSte/AKzM5ah4cr9w7I1Im1WmP5BbTLT7/aq/ZF9k0fjm3D+wdmu/mgO/PxBdhPuq8dE/EE6lXZsJxT8X/dbxXWnmv0TgJBJ3Lds/4dw+WtDq2r9ImHQt0jm1v31gezMJodK/VDTR1QsP0z9gfeTYIgrGP3C4vTuMV9E/XlRcFzeH5b+UY1FJ9n/Av6z4EiDbB9Y/EDlwjV3gq79awJItuZTRv5gcTOKUvbo/OAJL3z7hw798tz2zo5HZP1CgYDPGLbw/IG5ORZsul7/Q/9y/iwPVP8BeG4XUEuQ/tKgTG0Saxb+sU0tS7uXVv/Q6ONfqEsg/Ccatj+0h07+QHWZLi8DbP/uXn1jPW9u/DCbbbcHL0z/gDWuGFrqav3weOe+4yMG/wAaR+nM1ob8cPceC+xrEPz9Lnyej8NG/CNExu1YpwD9U8uUVY9jLP4gZsLo9EdA/UPonoAwyuD8S+16Jq/vUv+jCwvu7DMe/UEjrMXQFrb9IGa992xTKv2zA6T6xHMo/FEhc021myT/e9pGVuAXpv2go7mpJQbY/EnjEBrOl6L8E1zygEkvZPyhPU8qDE8a/pCgqlgWF0z8cmFPzg3jFv8A5RZsiitg/teOnQS501b/ApNB8KCyiP6S/HaRvgcE/nMdEeTQo0z9A9D6fCTeEv8q6EZJJANq/XEON3p3o2z9YlujBIIrPPwAbKaSJLoU/Hj7y2U+I57/gMu66Ytm0P7gBpLudhLW/wE5z+TSfiT/gKk2wQavVP3QU6dx3fdI/dAXduj8+yb/60Kp7883iv56ZGPKoJ+W/wDw9o3LdrT+gWbPtXVbEPzgVjwf0ici/EKBLjGuOwr+P6lUqYhbYv6gp/MlinLC/Wne6yuKH0r+kkVTGug7YP8DRM3TBw7G/5FeHMN8Y5D8=",
          "dtype": "f8"
         }
        }
       ],
       "layout": {
        "legend": {
         "tracegroupgap": 0
        },
        "scene": {
         "domain": {
          "x": [
           0,
           1
          ],
          "y": [
           0,
           1
          ]
         },
         "xaxis": {
          "title": {
           "text": "x"
          }
         },
         "yaxis": {
          "title": {
           "text": "y"
          }
         },
         "zaxis": {
          "title": {
           "text": "z"
          }
         }
        },
        "template": {
         "data": {
          "bar": [
           {
            "error_x": {
             "color": "#2a3f5f"
            },
            "error_y": {
             "color": "#2a3f5f"
            },
            "marker": {
             "line": {
              "color": "#E5ECF6",
              "width": 0.5
             },
             "pattern": {
              "fillmode": "overlay",
              "size": 10,
              "solidity": 0.2
             }
            },
            "type": "bar"
           }
          ],
          "barpolar": [
           {
            "marker": {
             "line": {
              "color": "#E5ECF6",
              "width": 0.5
             },
             "pattern": {
              "fillmode": "overlay",
              "size": 10,
              "solidity": 0.2
             }
            },
            "type": "barpolar"
           }
          ],
          "carpet": [
           {
            "aaxis": {
             "endlinecolor": "#2a3f5f",
             "gridcolor": "white",
             "linecolor": "white",
             "minorgridcolor": "white",
             "startlinecolor": "#2a3f5f"
            },
            "baxis": {
             "endlinecolor": "#2a3f5f",
             "gridcolor": "white",
             "linecolor": "white",
             "minorgridcolor": "white",
             "startlinecolor": "#2a3f5f"
            },
            "type": "carpet"
           }
          ],
          "choropleth": [
           {
            "colorbar": {
             "outlinewidth": 0,
             "ticks": ""
            },
            "type": "choropleth"
           }
          ],
          "contour": [
           {
            "colorbar": {
             "outlinewidth": 0,
             "ticks": ""
            },
            "colorscale": [
             [
              0,
              "#0d0887"
             ],
             [
              0.1111111111111111,
              "#46039f"
             ],
             [
              0.2222222222222222,
              "#7201a8"
             ],
             [
              0.3333333333333333,
              "#9c179e"
             ],
             [
              0.4444444444444444,
              "#bd3786"
             ],
             [
              0.5555555555555556,
              "#d8576b"
             ],
             [
              0.6666666666666666,
              "#ed7953"
             ],
             [
              0.7777777777777778,
              "#fb9f3a"
             ],
             [
              0.8888888888888888,
              "#fdca26"
             ],
             [
              1,
              "#f0f921"
             ]
            ],
            "type": "contour"
           }
          ],
          "contourcarpet": [
           {
            "colorbar": {
             "outlinewidth": 0,
             "ticks": ""
            },
            "type": "contourcarpet"
           }
          ],
          "heatmap": [
           {
            "colorbar": {
             "outlinewidth": 0,
             "ticks": ""
            },
            "colorscale": [
             [
              0,
              "#0d0887"
             ],
             [
              0.1111111111111111,
              "#46039f"
             ],
             [
              0.2222222222222222,
              "#7201a8"
             ],
             [
              0.3333333333333333,
              "#9c179e"
             ],
             [
              0.4444444444444444,
              "#bd3786"
             ],
             [
              0.5555555555555556,
              "#d8576b"
             ],
             [
              0.6666666666666666,
              "#ed7953"
             ],
             [
              0.7777777777777778,
              "#fb9f3a"
             ],
             [
              0.8888888888888888,
              "#fdca26"
             ],
             [
              1,
              "#f0f921"
             ]
            ],
            "type": "heatmap"
           }
          ],
          "histogram": [
           {
            "marker": {
             "pattern": {
              "fillmode": "overlay",
              "size": 10,
              "solidity": 0.2
             }
            },
            "type": "histogram"
           }
          ],
          "histogram2d": [
           {
            "colorbar": {
             "outlinewidth": 0,
             "ticks": ""
            },
            "colorscale": [
             [
              0,
              "#0d0887"
             ],
             [
              0.1111111111111111,
              "#46039f"
             ],
             [
              0.2222222222222222,
              "#7201a8"
             ],
             [
              0.3333333333333333,
              "#9c179e"
             ],
             [
              0.4444444444444444,
              "#bd3786"
             ],
             [
              0.5555555555555556,
              "#d8576b"
             ],
             [
              0.6666666666666666,
              "#ed7953"
             ],
             [
              0.7777777777777778,
              "#fb9f3a"
             ],
             [
              0.8888888888888888,
              "#fdca26"
             ],
             [
              1,
              "#f0f921"
             ]
            ],
            "type": "histogram2d"
           }
          ],
          "histogram2dcontour": [
           {
            "colorbar": {
             "outlinewidth": 0,
             "ticks": ""
            },
            "colorscale": [
             [
              0,
              "#0d0887"
             ],
             [
              0.1111111111111111,
              "#46039f"
             ],
             [
              0.2222222222222222,
              "#7201a8"
             ],
             [
              0.3333333333333333,
              "#9c179e"
             ],
             [
              0.4444444444444444,
              "#bd3786"
             ],
             [
              0.5555555555555556,
              "#d8576b"
             ],
             [
              0.6666666666666666,
              "#ed7953"
             ],
             [
              0.7777777777777778,
              "#fb9f3a"
             ],
             [
              0.8888888888888888,
              "#fdca26"
             ],
             [
              1,
              "#f0f921"
             ]
            ],
            "type": "histogram2dcontour"
           }
          ],
          "mesh3d": [
           {
            "colorbar": {
             "outlinewidth": 0,
             "ticks": ""
            },
            "type": "mesh3d"
           }
          ],
          "parcoords": [
           {
            "line": {
             "colorbar": {
              "outlinewidth": 0,
              "ticks": ""
             }
            },
            "type": "parcoords"
           }
          ],
          "pie": [
           {
            "automargin": true,
            "type": "pie"
           }
          ],
          "scatter": [
           {
            "fillpattern": {
             "fillmode": "overlay",
             "size": 10,
             "solidity": 0.2
            },
            "type": "scatter"
           }
          ],
          "scatter3d": [
           {
            "line": {
             "colorbar": {
              "outlinewidth": 0,
              "ticks": ""
             }
            },
            "marker": {
             "colorbar": {
              "outlinewidth": 0,
              "ticks": ""
             }
            },
            "type": "scatter3d"
           }
          ],
          "scattercarpet": [
           {
            "marker": {
             "colorbar": {
              "outlinewidth": 0,
              "ticks": ""
             }
            },
            "type": "scattercarpet"
           }
          ],
          "scattergeo": [
           {
            "marker": {
             "colorbar": {
              "outlinewidth": 0,
              "ticks": ""
             }
            },
            "type": "scattergeo"
           }
          ],
          "scattergl": [
           {
            "marker": {
             "colorbar": {
              "outlinewidth": 0,
              "ticks": ""
             }
            },
            "type": "scattergl"
           }
          ],
          "scattermap": [
           {
            "marker": {
             "colorbar": {
              "outlinewidth": 0,
              "ticks": ""
             }
            },
            "type": "scattermap"
           }
          ],
          "scattermapbox": [
           {
            "marker": {
             "colorbar": {
              "outlinewidth": 0,
              "ticks": ""
             }
            },
            "type": "scattermapbox"
           }
          ],
          "scatterpolar": [
           {
            "marker": {
             "colorbar": {
              "outlinewidth": 0,
              "ticks": ""
             }
            },
            "type": "scatterpolar"
           }
          ],
          "scatterpolargl": [
           {
            "marker": {
             "colorbar": {
              "outlinewidth": 0,
              "ticks": ""
             }
            },
            "type": "scatterpolargl"
           }
          ],
          "scatterternary": [
           {
            "marker": {
             "colorbar": {
              "outlinewidth": 0,
              "ticks": ""
             }
            },
            "type": "scatterternary"
           }
          ],
          "surface": [
           {
            "colorbar": {
             "outlinewidth": 0,
             "ticks": ""
            },
            "colorscale": [
             [
              0,
              "#0d0887"
             ],
             [
              0.1111111111111111,
              "#46039f"
             ],
             [
              0.2222222222222222,
              "#7201a8"
             ],
             [
              0.3333333333333333,
              "#9c179e"
             ],
             [
              0.4444444444444444,
              "#bd3786"
             ],
             [
              0.5555555555555556,
              "#d8576b"
             ],
             [
              0.6666666666666666,
              "#ed7953"
             ],
             [
              0.7777777777777778,
              "#fb9f3a"
             ],
             [
              0.8888888888888888,
              "#fdca26"
             ],
             [
              1,
              "#f0f921"
             ]
            ],
            "type": "surface"
           }
          ],
          "table": [
           {
            "cells": {
             "fill": {
              "color": "#EBF0F8"
             },
             "line": {
              "color": "white"
             }
            },
            "header": {
             "fill": {
              "color": "#C8D4E3"
             },
             "line": {
              "color": "white"
             }
            },
            "type": "table"
           }
          ]
         },
         "layout": {
          "annotationdefaults": {
           "arrowcolor": "#2a3f5f",
           "arrowhead": 0,
           "arrowwidth": 1
          },
          "autotypenumbers": "strict",
          "coloraxis": {
           "colorbar": {
            "outlinewidth": 0,
            "ticks": ""
           }
          },
          "colorscale": {
           "diverging": [
            [
             0,
             "#8e0152"
            ],
            [
             0.1,
             "#c51b7d"
            ],
            [
             0.2,
             "#de77ae"
            ],
            [
             0.3,
             "#f1b6da"
            ],
            [
             0.4,
             "#fde0ef"
            ],
            [
             0.5,
             "#f7f7f7"
            ],
            [
             0.6,
             "#e6f5d0"
            ],
            [
             0.7,
             "#b8e186"
            ],
            [
             0.8,
             "#7fbc41"
            ],
            [
             0.9,
             "#4d9221"
            ],
            [
             1,
             "#276419"
            ]
           ],
           "sequential": [
            [
             0,
             "#0d0887"
            ],
            [
             0.1111111111111111,
             "#46039f"
            ],
            [
             0.2222222222222222,
             "#7201a8"
            ],
            [
             0.3333333333333333,
             "#9c179e"
            ],
            [
             0.4444444444444444,
             "#bd3786"
            ],
            [
             0.5555555555555556,
             "#d8576b"
            ],
            [
             0.6666666666666666,
             "#ed7953"
            ],
            [
             0.7777777777777778,
             "#fb9f3a"
            ],
            [
             0.8888888888888888,
             "#fdca26"
            ],
            [
             1,
             "#f0f921"
            ]
           ],
           "sequentialminus": [
            [
             0,
             "#0d0887"
            ],
            [
             0.1111111111111111,
             "#46039f"
            ],
            [
             0.2222222222222222,
             "#7201a8"
            ],
            [
             0.3333333333333333,
             "#9c179e"
            ],
            [
             0.4444444444444444,
             "#bd3786"
            ],
            [
             0.5555555555555556,
             "#d8576b"
            ],
            [
             0.6666666666666666,
             "#ed7953"
            ],
            [
             0.7777777777777778,
             "#fb9f3a"
            ],
            [
             0.8888888888888888,
             "#fdca26"
            ],
            [
             1,
             "#f0f921"
            ]
           ]
          },
          "colorway": [
           "#636efa",
           "#EF553B",
           "#00cc96",
           "#ab63fa",
           "#FFA15A",
           "#19d3f3",
           "#FF6692",
           "#B6E880",
           "#FF97FF",
           "#FECB52"
          ],
          "font": {
           "color": "#2a3f5f"
          },
          "geo": {
           "bgcolor": "white",
           "lakecolor": "white",
           "landcolor": "#E5ECF6",
           "showlakes": true,
           "showland": true,
           "subunitcolor": "white"
          },
          "hoverlabel": {
           "align": "left"
          },
          "hovermode": "closest",
          "mapbox": {
           "style": "light"
          },
          "paper_bgcolor": "white",
          "plot_bgcolor": "#E5ECF6",
          "polar": {
           "angularaxis": {
            "gridcolor": "white",
            "linecolor": "white",
            "ticks": ""
           },
           "bgcolor": "#E5ECF6",
           "radialaxis": {
            "gridcolor": "white",
            "linecolor": "white",
            "ticks": ""
           }
          },
          "scene": {
           "xaxis": {
            "backgroundcolor": "#E5ECF6",
            "gridcolor": "white",
            "gridwidth": 2,
            "linecolor": "white",
            "showbackground": true,
            "ticks": "",
            "zerolinecolor": "white"
           },
           "yaxis": {
            "backgroundcolor": "#E5ECF6",
            "gridcolor": "white",
            "gridwidth": 2,
            "linecolor": "white",
            "showbackground": true,
            "ticks": "",
            "zerolinecolor": "white"
           },
           "zaxis": {
            "backgroundcolor": "#E5ECF6",
            "gridcolor": "white",
            "gridwidth": 2,
            "linecolor": "white",
            "showbackground": true,
            "ticks": "",
            "zerolinecolor": "white"
           }
          },
          "shapedefaults": {
           "line": {
            "color": "#2a3f5f"
           }
          },
          "ternary": {
           "aaxis": {
            "gridcolor": "white",
            "linecolor": "white",
            "ticks": ""
           },
           "baxis": {
            "gridcolor": "white",
            "linecolor": "white",
            "ticks": ""
           },
           "bgcolor": "#E5ECF6",
           "caxis": {
            "gridcolor": "white",
            "linecolor": "white",
            "ticks": ""
           }
          },
          "title": {
           "x": 0.05
          },
          "xaxis": {
           "automargin": true,
           "gridcolor": "white",
           "linecolor": "white",
           "ticks": "",
           "title": {
            "standoff": 15
           },
           "zerolinecolor": "white",
           "zerolinewidth": 2
          },
          "yaxis": {
           "automargin": true,
           "gridcolor": "white",
           "linecolor": "white",
           "ticks": "",
           "title": {
            "standoff": 15
           },
           "zerolinecolor": "white",
           "zerolinewidth": 2
          }
         }
        },
        "title": {
         "text": "extracted information or variances"
        }
       }
      }
     },
     "metadata": {},
     "output_type": "display_data"
    }
   ],
   "source": [
    "import plotly.express as px\n",
    "fig = px.scatter_3d(x=x_df_3dim.iloc[:,0],y=x_df_3dim.iloc[:,1],z=x_df_3dim.iloc[:,2],title=\"extracted information or variances\")\n",
    "fig.show()\n"
   ]
  },
  {
   "cell_type": "code",
   "execution_count": 25,
   "id": "08e5d2ba",
   "metadata": {},
   "outputs": [
    {
     "data": {
      "image/png": "[encoded data removed]",
      "text/plain": [
       "<Figure size 1500x600 with 2 Axes>"
      ]
     },
     "metadata": {},
     "output_type": "display_data"
    }
   ],
   "source": [
    "plt.figure(figsize=(15,6))\n",
    "pca_components = pca.components_\n",
    "sns.heatmap(pca_components,annot=True,cmap='magma')\n",
    "plt.show()"
   ]
  },
  {
   "cell_type": "code",
   "execution_count": 28,
   "id": "aa489c19",
   "metadata": {},
   "outputs": [
    {
     "name": "stdout",
     "output_type": "stream",
     "text": [
      "component-wise explained variance: \n",
      " [0.163  0.1313 0.1235]\n"
     ]
    }
   ],
   "source": [
    "pca_exp_variance = pca.explained_variance_ratio_.round(4)\n",
    "print(\"component-wise explained variance: \\n\",pca_exp_variance)"
   ]
  },
  {
   "cell_type": "code",
   "execution_count": 33,
   "id": "314fec0e",
   "metadata": {},
   "outputs": [
    {
     "data": {
      "image/png": "[encoded data removed]",
      "text/plain": [
       "<Figure size 640x480 with 1 Axes>"
      ]
     },
     "metadata": {},
     "output_type": "display_data"
    }
   ],
   "source": [
    "sns.barplot(pca_exp_variance,color='orange')\n",
    "plt.title(\"variance_graph\")\n",
    "plt.xlabel(\"extracted_features\")\n",
    "plt.ylabel(\"variances\")\n",
    "plt.show()"
   ]
  },
  {
   "cell_type": "code",
   "execution_count": null,
   "id": "d6643873",
   "metadata": {},
   "outputs": [],
   "source": []
  }
 ],
 "metadata": {
  "kernelspec": {
   "display_name": "myenv",
   "language": "python",
   "name": "python3"
  },
  "language_info": {
   "codemirror_mode": {
    "name": "ipython",
    "version": 3
   },
   "file_extension": ".py",
   "mimetype": "text/x-python",
   "name": "python",
   "nbconvert_exporter": "python",
   "pygments_lexer": "ipython3",
   "version": "3.12.10"
  }
 },
 "nbformat": 4,
 "nbformat_minor": 5
}
